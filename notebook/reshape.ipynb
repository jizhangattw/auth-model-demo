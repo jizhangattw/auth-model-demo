{
 "cells": [
  {
   "cell_type": "markdown",
   "metadata": {},
   "source": [
    "[数据分段](https://trello.com/c/YckolJdd/7-%E6%95%B0%E6%8D%AE%E5%A4%84%E7%90%86-%E6%95%B0%E6%8D%AE%E5%88%86%E6%AE%B5)\n",
    "\n",
    "输入数据：[n_input, 9], 每40毫秒采集一个，采集多少个就是n。打平\n",
    "\n",
    "输入参数：window_size, step_width\n",
    "\n",
    "输出数据：[n_output, window_size, 9]多少段，和输入一致。打平。"
   ]
  },
  {
   "cell_type": "code",
   "execution_count": 1,
   "metadata": {},
   "outputs": [],
   "source": [
    "import numpy as np"
   ]
  },
  {
   "cell_type": "code",
   "execution_count": 21,
   "metadata": {},
   "outputs": [],
   "source": [
    "def utils_gen_windows(data_length, window_size, step_width):\n",
    "    \"Generate indices for window-slizes with given length & step width.\"\n",
    "    start = 0\n",
    "    while start < data_length:\n",
    "        yield start, start + window_size\n",
    "        start += step_width"
   ]
  },
  {
   "cell_type": "markdown",
   "metadata": {},
   "source": [
    "**check function:**"
   ]
  },
  {
   "cell_type": "code",
   "execution_count": 22,
   "metadata": {},
   "outputs": [
    {
     "name": "stdout",
     "output_type": "stream",
     "text": [
      "(0, 4)\n",
      "(3, 7)\n",
      "(6, 10)\n",
      "(9, 13)\n"
     ]
    }
   ],
   "source": [
    "g_temp = utils_gen_windows(10, 4, 3)\n",
    "for idx in g_temp:\n",
    "    print(idx)"
   ]
  },
  {
   "cell_type": "code",
   "execution_count": 28,
   "metadata": {},
   "outputs": [],
   "source": [
    "def reshape(raw_data, window_size, step_width):\n",
    "    '''\n",
    "    input: \n",
    "        [n_input,9]\n",
    "            n_input = n_sec * frequence\n",
    "            9, data from 3 sensors\n",
    "    \n",
    "    output: \n",
    "        [n_output, window_size, 9]\n",
    "            n_output = \n",
    "    '''\n",
    "    new_feat_count = ((raw_data.shape[0] - window_size) // step_width) + 1\n",
    "    reshaped_feat = np.empty((new_feat_count, window_size, 9))\n",
    "    for idx, window in enumerate(\n",
    "        utils_gen_windows(raw_data.shape[0], window_size, step_width)\n",
    "    ):\n",
    "        new_row = raw_data[window[0] : window[1]]\n",
    "        if idx < new_feat_count:\n",
    "            reshaped_feat[idx, :] = new_row\n",
    "                \n",
    "    return reshaped_feat"
   ]
  },
  {
   "cell_type": "markdown",
   "metadata": {},
   "source": [
    "**check function**"
   ]
  },
  {
   "cell_type": "code",
   "execution_count": 43,
   "metadata": {},
   "outputs": [
    {
     "name": "stdout",
     "output_type": "stream",
     "text": [
      "Before reshaping:\n"
     ]
    },
    {
     "data": {
      "text/plain": [
       "array([[5, 2, 8, 6, 6, 7, 1, 2, 8],\n",
       "       [4, 0, 4, 9, 6, 7, 9, 1, 3],\n",
       "       [8, 4, 3, 3, 1, 0, 8, 8, 8],\n",
       "       [3, 9, 8, 8, 0, 7, 5, 1, 7],\n",
       "       [8, 3, 9, 1, 0, 7, 6, 4, 5],\n",
       "       [8, 6, 0, 5, 0, 6, 3, 7, 2],\n",
       "       [8, 3, 0, 7, 9, 8, 9, 8, 6],\n",
       "       [2, 2, 4, 5, 9, 5, 9, 4, 1],\n",
       "       [0, 4, 4, 4, 9, 3, 2, 8, 8],\n",
       "       [2, 2, 1, 3, 5, 7, 5, 4, 2]])"
      ]
     },
     "metadata": {},
     "output_type": "display_data"
    },
    {
     "data": {
      "text/plain": [
       "(10, 9)"
      ]
     },
     "metadata": {},
     "output_type": "display_data"
    },
    {
     "name": "stdout",
     "output_type": "stream",
     "text": [
      "After reshaping:\n"
     ]
    },
    {
     "data": {
      "text/plain": [
       "array([[[5., 2., 8., 6., 6., 7., 1., 2., 8.],\n",
       "        [4., 0., 4., 9., 6., 7., 9., 1., 3.],\n",
       "        [8., 4., 3., 3., 1., 0., 8., 8., 8.]],\n",
       "\n",
       "       [[8., 4., 3., 3., 1., 0., 8., 8., 8.],\n",
       "        [3., 9., 8., 8., 0., 7., 5., 1., 7.],\n",
       "        [8., 3., 9., 1., 0., 7., 6., 4., 5.]],\n",
       "\n",
       "       [[8., 3., 9., 1., 0., 7., 6., 4., 5.],\n",
       "        [8., 6., 0., 5., 0., 6., 3., 7., 2.],\n",
       "        [8., 3., 0., 7., 9., 8., 9., 8., 6.]],\n",
       "\n",
       "       [[8., 3., 0., 7., 9., 8., 9., 8., 6.],\n",
       "        [2., 2., 4., 5., 9., 5., 9., 4., 1.],\n",
       "        [0., 4., 4., 4., 9., 3., 2., 8., 8.]]])"
      ]
     },
     "metadata": {},
     "output_type": "display_data"
    },
    {
     "data": {
      "text/plain": [
       "(4, 3, 9)"
      ]
     },
     "metadata": {},
     "output_type": "display_data"
    }
   ],
   "source": [
    "    df_temp =np.random.randint(0,10,size=(10,9))\n",
    "    print(\"Before reshaping:\")\n",
    "    display(df_temp)\n",
    "    display(df_temp.shape)\n",
    "    \n",
    "    df_temp = reshape(df_temp, 3, 2)\n",
    "    print(\"After reshaping:\")\n",
    "    display(df_temp)\n",
    "    display(df_temp.shape)"
   ]
  },
  {
   "cell_type": "code",
   "execution_count": 44,
   "metadata": {},
   "outputs": [
    {
     "name": "stdout",
     "output_type": "stream",
     "text": [
      "raw_data shape:  (250, 9)\n",
      "reshaped_data shape:  (10, 25, 9)\n"
     ]
    }
   ],
   "source": [
    "N_SEC = 10\n",
    "FREQUENCE = 25 \n",
    "\n",
    "raw_data = np.random.rand(N_SEC*FREQUENCE, 9)\n",
    "print('raw_data shape: ', raw_data.shape)\n",
    "reshaped_data = reshape(raw_data, 25, 25)\n",
    "print('reshaped_data shape: ', reshaped_data.shape)"
   ]
  },
  {
   "cell_type": "code",
   "execution_count": null,
   "metadata": {},
   "outputs": [],
   "source": []
  }
 ],
 "metadata": {
  "kernelspec": {
   "display_name": "Python 3",
   "language": "python",
   "name": "python3"
  },
  "language_info": {
   "codemirror_mode": {
    "name": "ipython",
    "version": 3
   },
   "file_extension": ".py",
   "mimetype": "text/x-python",
   "name": "python",
   "nbconvert_exporter": "python",
   "pygments_lexer": "ipython3",
   "version": "3.6.10"
  }
 },
 "nbformat": 4,
 "nbformat_minor": 4
}
